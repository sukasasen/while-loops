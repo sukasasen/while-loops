{
 "cells": [
  {
   "cell_type": "code",
   "execution_count": 1,
   "id": "f0fec56c-d843-458f-ab41-101ca6502dec",
   "metadata": {},
   "outputs": [
    {
     "name": "stdout",
     "output_type": "stream",
     "text": [
      "10\n",
      "9\n",
      "8\n",
      "7\n",
      "6\n",
      "5\n",
      "4\n",
      "3\n",
      "2\n",
      "1\n",
      "loop completed!\n"
     ]
    }
   ],
   "source": [
    "num=10\n",
    "while num >= 1:\n",
    "    print(num)\n",
    "    num-=1\n",
    "print('loop completed!')    \n",
    "    "
   ]
  },
  {
   "cell_type": "code",
   "execution_count": 2,
   "id": "409e397b-2ced-4cb3-a406-01386001b924",
   "metadata": {},
   "outputs": [
    {
     "name": "stdout",
     "output_type": "stream",
     "text": [
      "2\n",
      "4\n",
      "6\n",
      "8\n",
      "10\n",
      "12\n",
      "14\n",
      "16\n",
      "18\n",
      "20\n"
     ]
    }
   ],
   "source": [
    "num=2\n",
    "while num <=20:\n",
    "    print(num)\n",
    "    num+=2"
   ]
  },
  {
   "cell_type": "code",
   "execution_count": 4,
   "id": "85507f2f-00ef-4af6-ac8a-f10b13931fbd",
   "metadata": {},
   "outputs": [
    {
     "name": "stdin",
     "output_type": "stream",
     "text": [
      "enter a num:  6\n"
     ]
    },
    {
     "name": "stdout",
     "output_type": "stream",
     "text": [
      "sum of first natural num: 21\n"
     ]
    }
   ],
   "source": [
    "num=int(input('enter a num: '))\n",
    "sum=0\n",
    "i=1\n",
    "while i<=num:\n",
    "    sum+=i\n",
    "    i+=1    \n",
    "print('sum of first natural num:',sum)"
   ]
  },
  {
   "cell_type": "code",
   "execution_count": 8,
   "id": "88a4bff6-b5a7-4d90-881f-572e64dcb210",
   "metadata": {},
   "outputs": [
    {
     "name": "stdin",
     "output_type": "stream",
     "text": [
      "write a positive num:  5\n"
     ]
    },
    {
     "name": "stdout",
     "output_type": "stream",
     "text": [
      "thankyou!\n"
     ]
    }
   ],
   "source": [
    "num=-4\n",
    "while num <=0:\n",
    "    num=int(input('write a positive num: '))\n",
    "    print('thankyou!')"
   ]
  },
  {
   "cell_type": "code",
   "execution_count": 14,
   "id": "16c30934-3c87-4c7d-b111-519f20d776a3",
   "metadata": {},
   "outputs": [
    {
     "name": "stdout",
     "output_type": "stream",
     "text": [
      "d\n",
      "a\n",
      "t\n",
      "a\n"
     ]
    }
   ],
   "source": [
    "s='data'\n",
    "i=0\n",
    "while i < len(s):\n",
    "    print(s[i])\n",
    "    i+=1\n",
    "\n"
   ]
  },
  {
   "cell_type": "code",
   "execution_count": 30,
   "id": "312aeae9-1d2c-4a21-9bb8-faa18ebee32e",
   "metadata": {},
   "outputs": [
    {
     "name": "stdin",
     "output_type": "stream",
     "text": [
      "Enter the password:  fhjcghj\n"
     ]
    },
    {
     "name": "stdout",
     "output_type": "stream",
     "text": [
      "incorrect password, try again!\n"
     ]
    },
    {
     "name": "stdin",
     "output_type": "stream",
     "text": [
      "Enter the password:  dtyuoi87\n"
     ]
    },
    {
     "name": "stdout",
     "output_type": "stream",
     "text": [
      "incorrect password, try again!\n"
     ]
    },
    {
     "name": "stdin",
     "output_type": "stream",
     "text": [
      "Enter the password:  analytics123\n"
     ]
    },
    {
     "name": "stdout",
     "output_type": "stream",
     "text": [
      "access granted\n"
     ]
    }
   ],
   "source": [
    "correct_password='analytics123'\n",
    "user_input=input('Enter the password: ')\n",
    "while user_input!=correct_password:\n",
    "     print('incorrect password, try again!')\n",
    "     user_input=input('Enter the password: ')\n",
    "print('access granted')"
   ]
  },
  {
   "cell_type": "code",
   "execution_count": 35,
   "id": "dab77396-450d-43d1-8e87-89dc3d46415b",
   "metadata": {},
   "outputs": [
    {
     "name": "stdin",
     "output_type": "stream",
     "text": [
      "guess a num:  5\n"
     ]
    },
    {
     "name": "stdout",
     "output_type": "stream",
     "text": [
      "too low\n"
     ]
    },
    {
     "name": "stdin",
     "output_type": "stream",
     "text": [
      "guess a num:  7\n"
     ]
    },
    {
     "name": "stdout",
     "output_type": "stream",
     "text": [
      "correct\n"
     ]
    }
   ],
   "source": [
    "secret=7\n",
    "guess=0\n",
    "while guess!= secret :\n",
    "     guess=int(input('guess a num: '))\n",
    "     if guess < secret :\n",
    "        print('too low')\n",
    "     elif guess > secret:\n",
    "        print('too high')\n",
    "else:\n",
    "    print('correct')\n",
    "\n",
    "        "
   ]
  },
  {
   "cell_type": "code",
   "execution_count": 1,
   "id": "ec978504-3658-4431-8140-195f0aa83e6a",
   "metadata": {},
   "outputs": [
    {
     "name": "stdin",
     "output_type": "stream",
     "text": [
      "enter a positive integer:  5\n"
     ]
    },
    {
     "name": "stdout",
     "output_type": "stream",
     "text": [
      "digits: 1\n"
     ]
    }
   ],
   "source": [
    "num=int(input('enter a positive integer: '))\n",
    "count=0\n",
    "while num>0:\n",
    "    num//=10\n",
    "    count+=1\n",
    "print('digits:', count)"
   ]
  },
  {
   "cell_type": "code",
   "execution_count": 3,
   "id": "f3659b04-22e7-49c1-bed1-7798088955ae",
   "metadata": {},
   "outputs": [
    {
     "name": "stdin",
     "output_type": "stream",
     "text": [
      "enter a number:  5\n"
     ]
    },
    {
     "name": "stdout",
     "output_type": "stream",
     "text": [
      "5 x 1=5\n",
      "5 x 2=10\n",
      "5 x 3=15\n",
      "5 x 4=20\n",
      "5 x 5=25\n",
      "5 x 6=30\n",
      "5 x 7=35\n",
      "5 x 8=40\n",
      "5 x 9=45\n",
      "5 x 10=50\n"
     ]
    }
   ],
   "source": [
    "\n",
    "n=int(input('enter a number: '))\n",
    "i=1 \n",
    "while i <=10: \n",
    "    print(f\"{n} x {i}={n*i}\") \n",
    "    i+=1\n",
    "\n"
   ]
  },
  {
   "cell_type": "code",
   "execution_count": 4,
   "id": "478617f5-7608-4d5d-8cd1-e21bb9a490b5",
   "metadata": {},
   "outputs": [
    {
     "name": "stdin",
     "output_type": "stream",
     "text": [
      "Enter a number (-1 to stop):  65\n",
      "Enter a number (-1 to stop):  4\n",
      "Enter a number (-1 to stop):  2\n",
      "Enter a number (-1 to stop):  -7\n",
      "Enter a number (-1 to stop):  0\n",
      "Enter a number (-1 to stop):  -1\n"
     ]
    },
    {
     "name": "stdout",
     "output_type": "stream",
     "text": [
      "Average is 12.8\n"
     ]
    }
   ],
   "source": [
    "total=0\n",
    "count=0\n",
    "num=0\n",
    "while num!= -1:\n",
    "    num=int(input(\"Enter a number (-1 to stop): \"))\n",
    "    if num != -1:\n",
    "        total+=num\n",
    "        count+=1\n",
    "if count > 0:\n",
    "        print('Average is', total/count)"
   ]
  },
  {
   "cell_type": "code",
   "execution_count": null,
   "id": "ff8263ad-c66c-4fd9-874a-f5af8b359f1a",
   "metadata": {},
   "outputs": [],
   "source": []
  }
 ],
 "metadata": {
  "kernelspec": {
   "display_name": "Python 3 (ipykernel)",
   "language": "python",
   "name": "python3"
  },
  "language_info": {
   "codemirror_mode": {
    "name": "ipython",
    "version": 3
   },
   "file_extension": ".py",
   "mimetype": "text/x-python",
   "name": "python",
   "nbconvert_exporter": "python",
   "pygments_lexer": "ipython3",
   "version": "3.12.7"
  }
 },
 "nbformat": 4,
 "nbformat_minor": 5
}
